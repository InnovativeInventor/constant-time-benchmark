{
 "cells": [
  {
   "cell_type": "code",
   "execution_count": 12,
   "metadata": {},
   "outputs": [],
   "source": [
    "import numpy as np\n",
    "import seaborn as sns"
   ]
  },
  {
   "cell_type": "code",
   "execution_count": 38,
   "metadata": {},
   "outputs": [
    {
     "name": "stdout",
     "output_type": "stream",
     "text": [
      "AxesSubplot(0.125,0.125;0.775x0.755)\n",
      "Mean 199.17233560090702\n",
      "Std 47.79569384711641\n"
     ]
    },
    {
     "data": {
      "image/png": "[encoded data removed]",
      "text/plain": [
       "<Figure size 432x288 with 1 Axes>"
      ]
     },
     "metadata": {
      "needs_background": "light"
     },
     "output_type": "display_data"
    }
   ],
   "source": [
    "dataset_0 = np.array([])\n",
    "with open(\"output-0\", \"r\") as f:\n",
    "    for count, each_line in enumerate(f):\n",
    "        if count % 2 == 1:\n",
    "            assert str(each_line).rstrip() == \"0\"\n",
    "            continue\n",
    "        processed = int(each_line.rstrip()[:3])\n",
    "        dataset = np.append(dataset_0, processed)\n",
    "\n",
    "print(sns.distplot(dataset_0, bins=20, kde=False, rug=False))\n",
    "print(\"Mean\", np.mean(dataset_0))\n",
    "print(\"Std\", np.std(dataset_0))"
   ]
  },
  {
   "cell_type": "code",
   "execution_count": 39,
   "metadata": {},
   "outputs": [
    {
     "name": "stdout",
     "output_type": "stream",
     "text": [
      "AxesSubplot(0.125,0.125;0.775x0.755)\n"
     ]
    },
    {
     "data": {
      "image/png": "[encoded data removed]",
      "text/plain": [
       "<Figure size 432x288 with 1 Axes>"
      ]
     },
     "metadata": {
      "needs_background": "light"
     },
     "output_type": "display_data"
    }
   ],
   "source": [
    "print(sns.kdeplot(dataset_0, shade=True))"
   ]
  },
  {
   "cell_type": "code",
   "execution_count": 32,
   "metadata": {},
   "outputs": [
    {
     "data": {
      "text/plain": [
       "199.17233560090702"
      ]
     },
     "execution_count": 32,
     "metadata": {},
     "output_type": "execute_result"
    }
   ],
   "source": [
    "dataset_1 = np.array([])\n",
    "with open(\"output-1\", \"r\") as f:\n",
    "    for count, each_line in enumerate(f):\n",
    "        if count % 2 == 1:\n",
    "            assert str(each_line).rstrip() == \"1\"\n",
    "            continue\n",
    "        processed = int(each_line.rstrip()[:3])\n",
    "        dataset = np.append(dataset_1, processed)\n",
    "\n",
    "print(sns.distplot(dataset_1, bins=20, kde=False, rug=False))\n",
    "print(\"Mean\", np.mean(dataset_1))\n",
    "print(\"Std\", np.std(dataset_1))"
   ]
  },
  {
   "cell_type": "code",
   "execution_count": 33,
   "metadata": {},
   "outputs": [
    {
     "data": {
      "text/plain": [
       "47.79569384711641"
      ]
     },
     "execution_count": 33,
     "metadata": {},
     "output_type": "execute_result"
    }
   ],
   "source": [
    "print(sns.kdeplot(dataset_0, shade=True))"
   ]
  },
  {
   "cell_type": "code",
   "execution_count": null,
   "metadata": {},
   "outputs": [],
   "source": []
  }
 ],
 "metadata": {
  "kernelspec": {
   "display_name": "Python 3",
   "language": "python",
   "name": "python3"
  },
  "language_info": {
   "codemirror_mode": {
    "name": "ipython",
    "version": 3
   },
   "file_extension": ".py",
   "mimetype": "text/x-python",
   "name": "python",
   "nbconvert_exporter": "python",
   "pygments_lexer": "ipython3",
   "version": "3.7.4"
  }
 },
 "nbformat": 4,
 "nbformat_minor": 2
}
